{
 "cells": [
  {
   "cell_type": "markdown",
   "metadata": {},
   "source": [
    "Let $\\mathbb{Q}[\\sqrt{m}], \\; m\\in \\mathbb{Z}, \\; m$ is squarefree be the quadratic field of $m$. "
   ]
  },
  {
   "cell_type": "markdown",
   "metadata": {},
   "source": [
    "Note that if: \n",
    "$m>0 \\implies \\mathbb{Q}[\\sqrt{m}]\\subset \\mathbb{R}$ is a real number field. \n",
    "$m<0 \\implies \\mathbb{Q}[\\sqrt{m}]\\subset \\mathbb{C}$ is a complex number field. "
   ]
  },
  {
   "cell_type": "code",
   "execution_count": 178,
   "metadata": {},
   "outputs": [],
   "source": [
    "m = -27"
   ]
  },
  {
   "cell_type": "code",
   "execution_count": 179,
   "metadata": {},
   "outputs": [
    {
     "data": {
      "text/plain": [
       "Number Field in z with defining polynomial x^2 + 27 with z = 5.196152422706632?*I"
      ]
     },
     "execution_count": 179,
     "metadata": {},
     "output_type": "execute_result"
    }
   ],
   "source": [
    "K.<z> = QuadraticField(m); K"
   ]
  },
  {
   "cell_type": "markdown",
   "metadata": {},
   "source": [
    "#### Description as a polynomial quotient"
   ]
  },
  {
   "cell_type": "code",
   "execution_count": 180,
   "metadata": {},
   "outputs": [
    {
     "data": {
      "text/plain": [
       "Univariate Quotient Polynomial Ring in z over Rational Field with modulus x^2 + 27"
      ]
     },
     "execution_count": 180,
     "metadata": {},
     "output_type": "execute_result"
    }
   ],
   "source": [
    "K.polynomial_quotient_ring()"
   ]
  },
  {
   "cell_type": "markdown",
   "metadata": {},
   "source": [
    "#### Degree $n=[\\mathbb{Q}[\\sqrt{m}]\\colon \\mathbb{Q}]$"
   ]
  },
  {
   "cell_type": "code",
   "execution_count": 181,
   "metadata": {},
   "outputs": [
    {
     "data": {
      "text/plain": [
       "2"
      ]
     },
     "execution_count": 181,
     "metadata": {},
     "output_type": "execute_result"
    }
   ],
   "source": [
    "n = K.degree(); n"
   ]
  },
  {
   "cell_type": "markdown",
   "metadata": {},
   "source": [
    "#### Integral Basis"
   ]
  },
  {
   "cell_type": "code",
   "execution_count": 182,
   "metadata": {},
   "outputs": [
    {
     "data": {
      "text/plain": [
       "[1/6*z + 1/2, 1/3*z]"
      ]
     },
     "execution_count": 182,
     "metadata": {},
     "output_type": "execute_result"
    }
   ],
   "source": [
    "ib = K.integral_basis(); ib"
   ]
  },
  {
   "cell_type": "markdown",
   "metadata": {},
   "source": [
    "#### Number Ring: $\\mathcal{O}_\\mathrm{K}$"
   ]
  },
  {
   "cell_type": "code",
   "execution_count": 183,
   "metadata": {
    "scrolled": true
   },
   "outputs": [
    {
     "data": {
      "text/plain": [
       "Eisenstein Integers in Number Field in z with defining polynomial x^2 + 27 with z = 5.196152422706632?*I"
      ]
     },
     "execution_count": 183,
     "metadata": {},
     "output_type": "execute_result"
    }
   ],
   "source": [
    "R = K.ring_of_integers(); R"
   ]
  },
  {
   "cell_type": "markdown",
   "metadata": {},
   "source": [
    "#### Embeddings of $\\mathrm{K}$"
   ]
  },
  {
   "cell_type": "code",
   "execution_count": 184,
   "metadata": {},
   "outputs": [
    {
     "name": "stdout",
     "output_type": "stream",
     "text": [
      "There are 2 embeddings of K into itself.\n",
      "There are 0 embeddings of K into the reals.\n",
      "There are 2 embeddings of K into the complex numbers.\n",
      "0 Ring morphism:\n",
      "  From: Number Field in z with defining polynomial x^2 + 27 with z = 5.196152422706632?*I\n",
      "  To:   Complex Field with 53 bits of precision\n",
      "  Defn: z |--> -5.19615242270663*I \n",
      "\n",
      "1 Ring morphism:\n",
      "  From: Number Field in z with defining polynomial x^2 + 27 with z = 5.196152422706632?*I\n",
      "  To:   Complex Field with 53 bits of precision\n",
      "  Defn: z |--> 5.19615242270663*I \n",
      "\n"
     ]
    }
   ],
   "source": [
    "print('There are ' + str(len(K.embeddings(K))) + ' embeddings of K into itself.')\n",
    "print('There are ' + str(len(K.embeddings(RR))) + ' embeddings of K into the reals.')\n",
    "for count, embed in enumerate(K.real_embeddings()):\n",
    "    print(count, embed, '\\n')\n",
    "print('There are ' + str(len(K.embeddings(CC))) + ' embeddings of K into the complex numbers.')\n",
    "for count, embed in enumerate(K.complex_embeddings()):\n",
    "    print(count, embed, '\\n')"
   ]
  },
  {
   "cell_type": "markdown",
   "metadata": {},
   "source": [
    "#### Embeddings as signature $(r_1, r_2)$ where <br> $r_1$ is the number of embeddings $K\\hookrightarrow \\mathbb{R}$ and <br> $r_2$ is the number of conjugate pairs of embeddings $K\\hookrightarrow \\mathbb{C}$"
   ]
  },
  {
   "cell_type": "code",
   "execution_count": 185,
   "metadata": {},
   "outputs": [
    {
     "data": {
      "text/plain": [
       "(0, 1)"
      ]
     },
     "execution_count": 185,
     "metadata": {},
     "output_type": "execute_result"
    }
   ],
   "source": [
    "K.signature()"
   ]
  },
  {
   "cell_type": "markdown",
   "metadata": {},
   "source": [
    "#### Traces of integral basis elements"
   ]
  },
  {
   "cell_type": "code",
   "execution_count": 186,
   "metadata": {},
   "outputs": [
    {
     "name": "stdout",
     "output_type": "stream",
     "text": [
      "The trace of 1/6*z + 1/2 is 1\n",
      "The trace of 1/3*z is 0\n"
     ]
    }
   ],
   "source": [
    "for a in ib: \n",
    "    print('The trace of ' +str(a)+ ' is ' + str(a.trace()))"
   ]
  },
  {
   "cell_type": "markdown",
   "metadata": {},
   "source": [
    "#### Norms of integral basis elements"
   ]
  },
  {
   "cell_type": "code",
   "execution_count": 187,
   "metadata": {},
   "outputs": [
    {
     "name": "stdout",
     "output_type": "stream",
     "text": [
      "The norm of 1/6*z + 1/2 is 1\n",
      "The norm of 1/3*z is 3\n"
     ]
    }
   ],
   "source": [
    "for a in ib: \n",
    "    print('The norm of ' +str(a)+ ' is ' + str(a.norm()))"
   ]
  },
  {
   "cell_type": "markdown",
   "metadata": {},
   "source": [
    "#### Discriminant $\\Delta_\\mathrm{K}$"
   ]
  },
  {
   "cell_type": "code",
   "execution_count": 188,
   "metadata": {},
   "outputs": [
    {
     "data": {
      "text/plain": [
       "-3"
      ]
     },
     "execution_count": 188,
     "metadata": {},
     "output_type": "execute_result"
    }
   ],
   "source": [
    "K.discriminant()"
   ]
  },
  {
   "cell_type": "markdown",
   "metadata": {},
   "source": [
    "### Galois Group"
   ]
  },
  {
   "cell_type": "markdown",
   "metadata": {},
   "source": [
    "#### Is the number field Galois? "
   ]
  },
  {
   "cell_type": "code",
   "execution_count": 189,
   "metadata": {},
   "outputs": [
    {
     "name": "stdout",
     "output_type": "stream",
     "text": [
      "K is isomorphic to its Galois closure: True\n",
      "K is Galois with Galois group: Galois group of Number Field in z with defining polynomial x^2 + 27 with z = 5.196152422706632?*I\n"
     ]
    }
   ],
   "source": [
    "G = K.galois_group()\n",
    "L.<b> = K.galois_closure()\n",
    "if G.is_galois() == True: \n",
    "    print('K is isomorphic to its Galois closure:', K.is_isomorphic(L))\n",
    "    print('K is Galois with Galois group:', G)\n",
    "else: \n",
    "    print('K is isomorphic to its Galois closure:', K.is_isomorphic(L))\n",
    "    print('K is not Galois, but has Galois closure:', L)\n",
    "    print('The Galois closure of K has Galois group:', G)"
   ]
  },
  {
   "cell_type": "markdown",
   "metadata": {},
   "source": [
    "#### order = n"
   ]
  },
  {
   "cell_type": "code",
   "execution_count": 190,
   "metadata": {},
   "outputs": [
    {
     "data": {
      "text/plain": [
       "2"
      ]
     },
     "execution_count": 190,
     "metadata": {},
     "output_type": "execute_result"
    }
   ],
   "source": [
    "G.order()"
   ]
  },
  {
   "cell_type": "markdown",
   "metadata": {},
   "source": [
    "#### Generators of Galois Group"
   ]
  },
  {
   "cell_type": "code",
   "execution_count": 191,
   "metadata": {},
   "outputs": [
    {
     "name": "stdout",
     "output_type": "stream",
     "text": [
      "The Galois group is generated by 1 element.\n",
      "Generators of the Galois group as a subgroup of the symmetric group S_n are: [(1,2)]\n"
     ]
    }
   ],
   "source": [
    "print(\"The Galois group is generated by \" + str(G.ngens()) + \" element.\")\n",
    "print(\"Generators of the Galois group as a subgroup of the symmetric group S_n are: \" + str(G.gens()))"
   ]
  },
  {
   "cell_type": "markdown",
   "metadata": {},
   "source": [
    "#### Description as automorphism group $\\mathbf{Gal}(\\mathbb{Q}[\\sqrt{2}]/\\mathbb{Q})$"
   ]
  },
  {
   "cell_type": "code",
   "execution_count": 192,
   "metadata": {},
   "outputs": [
    {
     "name": "stdout",
     "output_type": "stream",
     "text": [
      "0 Ring endomorphism of Number Field in z with defining polynomial x^2 + 27 with z = 5.196152422706632?*I\n",
      "  Defn: z |--> z\n",
      "1 Ring endomorphism of Number Field in z with defining polynomial x^2 + 27 with z = 5.196152422706632?*I\n",
      "  Defn: z |--> -z\n"
     ]
    }
   ],
   "source": [
    "for count, auts in enumerate(G):\n",
    "    print(count, auts.as_hom())"
   ]
  },
  {
   "cell_type": "markdown",
   "metadata": {},
   "source": [
    "#### Description as a subgroup of symmetric group $S_n$"
   ]
  },
  {
   "cell_type": "code",
   "execution_count": 193,
   "metadata": {},
   "outputs": [
    {
     "data": {
      "text/plain": [
       "PARI group [2, -1, 1, \"S2\"] of degree 2"
      ]
     },
     "execution_count": 193,
     "metadata": {},
     "output_type": "execute_result"
    }
   ],
   "source": [
    "H = K.galois_group(type=\"pari\"); H.group()"
   ]
  },
  {
   "cell_type": "markdown",
   "metadata": {},
   "source": [
    "### Unit Group"
   ]
  },
  {
   "cell_type": "code",
   "execution_count": 194,
   "metadata": {},
   "outputs": [
    {
     "name": "stdout",
     "output_type": "stream",
     "text": [
      "Unit group with structure C6 of Number Field in z with defining polynomial x^2 + 27 with z = 5.196152422706632?*I\n",
      "The rank of the unit group of K: 0\n",
      "There are 1 generators of the unit group of K: \n",
      "\n",
      "0 Abstract generator:  u\n",
      "Generator in K:  -1/6*z + 1/2\n",
      "Multiplicative order:  6 \n",
      "\n"
     ]
    }
   ],
   "source": [
    "UK = UnitGroup(K); print(UK)\n",
    "print(\"The rank of the unit group of K: \" + str(UK.rank()))\n",
    "print(\"There are \" + str(UK.ngens()) + \" generators of the unit group of K:\", '\\n')\n",
    "for count, gen in enumerate(UK.gens()): \n",
    "    print(count, \"Abstract generator: \", gen)\n",
    "    print(\"Generator in K: \", gen.value())\n",
    "    print(\"Multiplicative order: \", gen.multiplicative_order(), '\\n')"
   ]
  },
  {
   "cell_type": "markdown",
   "metadata": {},
   "source": [
    "### Roots of Unity in $\\mathrm{K}$"
   ]
  },
  {
   "cell_type": "code",
   "execution_count": 195,
   "metadata": {
    "scrolled": true
   },
   "outputs": [
    {
     "name": "stdout",
     "output_type": "stream",
     "text": [
      "There are  6  roots of unity in K\n",
      "0 -1/6*z + 1/2  of multiplicative degree  6\n",
      "1 -1/6*z - 1/2  of multiplicative degree  3\n",
      "2 -1  of multiplicative degree  2\n",
      "3 1/6*z - 1/2  of multiplicative degree  3\n",
      "4 1/6*z + 1/2  of multiplicative degree  6\n",
      "5 1  of multiplicative degree  1\n"
     ]
    }
   ],
   "source": [
    "print(\"There are \", UK.zeta_order(), \" roots of unity in K\")\n",
    "for count, root in enumerate(UK.roots_of_unity()): \n",
    "    print(count, root, \" of multiplicative degree \", root.multiplicative_order())"
   ]
  },
  {
   "cell_type": "markdown",
   "metadata": {},
   "source": [
    "#### Roots of unity in $\\mathrm{K}$ by multiplicative degree"
   ]
  },
  {
   "cell_type": "code",
   "execution_count": 196,
   "metadata": {},
   "outputs": [
    {
     "name": "stdout",
     "output_type": "stream",
     "text": [
      "The 1th roots of unity in K:\n",
      "[1]\n",
      "The 2th roots of unity in K:\n",
      "[-1]\n"
     ]
    }
   ],
   "source": [
    "for i in range(1,n+1):\n",
    "    print('The ' + str(i) + 'th roots of unity in K:')\n",
    "    print(K.zeta(i, all= True))"
   ]
  },
  {
   "cell_type": "markdown",
   "metadata": {},
   "source": [
    "### Class Group"
   ]
  },
  {
   "cell_type": "markdown",
   "metadata": {},
   "source": [
    "#### Class Number"
   ]
  },
  {
   "cell_type": "code",
   "execution_count": 197,
   "metadata": {
    "scrolled": true
   },
   "outputs": [
    {
     "data": {
      "text/plain": [
       "1"
      ]
     },
     "execution_count": 197,
     "metadata": {},
     "output_type": "execute_result"
    }
   ],
   "source": [
    "K.class_number()"
   ]
  },
  {
   "cell_type": "markdown",
   "metadata": {},
   "source": [
    "#### Dedekind zeta function $\\zeta_\\mathrm{K}(s)$"
   ]
  },
  {
   "cell_type": "code",
   "execution_count": 198,
   "metadata": {},
   "outputs": [
    {
     "data": {
      "text/plain": [
       "PARI zeta function associated to Number Field in z with defining polynomial x^2 + 27 with z = 5.196152422706632?*I"
      ]
     },
     "execution_count": 198,
     "metadata": {},
     "output_type": "execute_result"
    }
   ],
   "source": [
    "Z = K.zeta_function(); Z"
   ]
  },
  {
   "cell_type": "markdown",
   "metadata": {},
   "source": [
    "#### First 23 coefficients of $\\zeta_\\mathrm{K}(s)$ as a Dirichlet series"
   ]
  },
  {
   "cell_type": "code",
   "execution_count": 199,
   "metadata": {},
   "outputs": [
    {
     "data": {
      "text/plain": [
       "[1, 0, 1, 1, 0, 0, 2, 0, 1, 0, 0, 1, 2, 0, 0, 1, 0, 0, 2, 0, 2, 0, 0]"
      ]
     },
     "execution_count": 199,
     "metadata": {},
     "output_type": "execute_result"
    }
   ],
   "source": [
    "K.zeta_coefficients(23)"
   ]
  }
 ],
 "metadata": {
  "kernelspec": {
   "display_name": "SageMath 9.2",
   "language": "sage",
   "name": "sagemath"
  },
  "language_info": {
   "codemirror_mode": {
    "name": "ipython",
    "version": 3
   },
   "file_extension": ".py",
   "mimetype": "text/x-python",
   "name": "python",
   "nbconvert_exporter": "python",
   "pygments_lexer": "ipython3",
   "version": "3.8.5"
  }
 },
 "nbformat": 4,
 "nbformat_minor": 4
}
